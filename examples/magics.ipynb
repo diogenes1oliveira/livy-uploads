{
 "cells": [
  {
   "cell_type": "markdown",
   "id": "e7539dc5-46e6-4740-890e-0b233f8a3534",
   "metadata": {},
   "source": [
    "## Load the extension"
   ]
  },
  {
   "cell_type": "code",
   "execution_count": 1,
   "id": "ddde0b3a-a5b3-4e9c-8a97-0fe590e79dca",
   "metadata": {},
   "outputs": [],
   "source": [
    "%load_ext livy_uploads.magics"
   ]
  },
  {
   "cell_type": "markdown",
   "id": "935e7b51-1a37-45ea-acc0-7be7ac355d3f",
   "metadata": {},
   "source": [
    "## Sending local variable"
   ]
  },
  {
   "cell_type": "code",
   "execution_count": 2,
   "id": "46dfcbed-0a59-4533-bf3c-a1922ae663ab",
   "metadata": {},
   "outputs": [
    {
     "name": "stdout",
     "output_type": "stream",
     "text": [
      "Starting Spark application\n"
     ]
    },
    {
     "data": {
      "text/html": [
       "<table>\n",
       "<tr><th>ID</th><th>YARN Application ID</th><th>Kind</th><th>State</th><th>Spark UI</th><th>Driver log</th><th>User</th><th>Current session?</th></tr><tr><td>8</td><td>None</td><td>pyspark</td><td>idle</td><td></td><td></td><td>None</td><td>✔</td></tr></table>"
      ],
      "text/plain": [
       "<IPython.core.display.HTML object>"
      ]
     },
     "metadata": {},
     "output_type": "display_data"
    },
    {
     "data": {
      "application/vnd.jupyter.widget-view+json": {
       "model_id": "",
       "version_major": 2,
       "version_minor": 0
      },
      "text/plain": [
       "FloatProgress(value=0.0, bar_style='info', description='Progress:', layout=Layout(height='25px', width='50%'),…"
      ]
     },
     "metadata": {},
     "output_type": "display_data"
    },
    {
     "name": "stdout",
     "output_type": "stream",
     "text": [
      "SparkSession available as 'spark'.\n"
     ]
    },
    {
     "data": {
      "application/vnd.jupyter.widget-view+json": {
       "model_id": "",
       "version_major": 2,
       "version_minor": 0
      },
      "text/plain": [
       "FloatProgress(value=0.0, bar_style='info', description='Progress:', layout=Layout(height='25px', width='50%'),…"
      ]
     },
     "metadata": {},
     "output_type": "display_data"
    },
    {
     "name": "stdout",
     "output_type": "stream",
     "text": [
      "['HiveContext', 'StreamingContext', '__builtins__', 'cloudpickle', 'sc', 'spark', 'sqlContext']"
     ]
    }
   ],
   "source": [
    "list(sorted(globals()))"
   ]
  },
  {
   "cell_type": "code",
   "execution_count": 3,
   "id": "343468f8-6c26-4439-abf4-b02525785cd4",
   "metadata": {},
   "outputs": [],
   "source": [
    "%local\n",
    "\n",
    "foo = {2, 3, 4}\n"
   ]
  },
  {
   "cell_type": "code",
   "execution_count": 4,
   "id": "c43925e6-ed31-4421-ad1a-d431d7d8fd51",
   "metadata": {},
   "outputs": [],
   "source": [
    "%send_obj_to_spark -n foo"
   ]
  },
  {
   "cell_type": "code",
   "execution_count": 5,
   "id": "ea7a1719-7cef-4e3c-be92-f0c25211054c",
   "metadata": {},
   "outputs": [
    {
     "data": {
      "application/vnd.jupyter.widget-view+json": {
       "model_id": "",
       "version_major": 2,
       "version_minor": 0
      },
      "text/plain": [
       "FloatProgress(value=0.0, bar_style='info', description='Progress:', layout=Layout(height='25px', width='50%'),…"
      ]
     },
     "metadata": {},
     "output_type": "display_data"
    },
    {
     "name": "stdout",
     "output_type": "stream",
     "text": [
      "{2, 3, 4}"
     ]
    }
   ],
   "source": [
    "foo"
   ]
  },
  {
   "cell_type": "markdown",
   "id": "8bc0a088-a06e-4020-a5be-2c1289507f1a",
   "metadata": {},
   "source": [
    "## Fetching remote variable"
   ]
  },
  {
   "cell_type": "code",
   "execution_count": 6,
   "id": "7f1a1a1a-6777-4e4b-a5c0-dee6c15657cd",
   "metadata": {},
   "outputs": [
    {
     "data": {
      "text/plain": [
       "['In',\n",
       " 'Out',\n",
       " '_',\n",
       " '__',\n",
       " '___',\n",
       " '__builtin__',\n",
       " '__builtins__',\n",
       " '__doc__',\n",
       " '__loader__',\n",
       " '__name__',\n",
       " '__package__',\n",
       " '__spec__',\n",
       " '_dh',\n",
       " '_i',\n",
       " '_i1',\n",
       " '_i2',\n",
       " '_i3',\n",
       " '_i4',\n",
       " '_i5',\n",
       " '_i6',\n",
       " '_ih',\n",
       " '_ii',\n",
       " '_iii',\n",
       " '_oh',\n",
       " 'display_dataframe',\n",
       " 'exit',\n",
       " 'foo',\n",
       " 'get_ipython',\n",
       " 'ip',\n",
       " 'quit']"
      ]
     },
     "execution_count": 6,
     "metadata": {},
     "output_type": "execute_result"
    }
   ],
   "source": [
    "%local\n",
    "\n",
    "list(sorted(globals()))"
   ]
  },
  {
   "cell_type": "code",
   "execution_count": 7,
   "id": "46582d08-4d7d-45a5-9dab-a59ae4a037f5",
   "metadata": {},
   "outputs": [
    {
     "data": {
      "application/vnd.jupyter.widget-view+json": {
       "model_id": "",
       "version_major": 2,
       "version_minor": 0
      },
      "text/plain": [
       "FloatProgress(value=0.0, bar_style='info', description='Progress:', layout=Layout(height='25px', width='50%'),…"
      ]
     },
     "metadata": {},
     "output_type": "display_data"
    },
    {
     "name": "stdout",
     "output_type": "stream",
     "text": [
      "datetime.datetime(2025, 1, 10, 16, 57, 7, 670721, tzinfo=datetime.timezone(datetime.timedelta(0), 'UTC'))"
     ]
    }
   ],
   "source": [
    "from datetime import datetime\n",
    "\n",
    "now = datetime.now().astimezone()\n",
    "now"
   ]
  },
  {
   "cell_type": "code",
   "execution_count": 8,
   "id": "89bdda1f-5e64-4dd4-ace7-aa7ca1349910",
   "metadata": {},
   "outputs": [],
   "source": [
    "%get_obj_from_spark -n now"
   ]
  },
  {
   "cell_type": "code",
   "execution_count": 9,
   "id": "6bc84d9e-d1c2-4cc2-8f5b-a999e53d9a1d",
   "metadata": {},
   "outputs": [
    {
     "data": {
      "text/plain": [
       "datetime.datetime(2025, 1, 10, 16, 57, 7, 670721, tzinfo=datetime.timezone(datetime.timedelta(0), 'UTC'))"
      ]
     },
     "execution_count": 9,
     "metadata": {},
     "output_type": "execute_result"
    }
   ],
   "source": [
    "%local\n",
    "\n",
    "now"
   ]
  },
  {
   "cell_type": "markdown",
   "id": "02eaa787-5d90-4a70-86bd-fd0224f27718",
   "metadata": {},
   "source": [
    "## Running commands"
   ]
  },
  {
   "cell_type": "code",
   "execution_count": 10,
   "id": "89dabe55-534a-4f6d-a6a4-641df6c322df",
   "metadata": {},
   "outputs": [
    {
     "name": "stdout",
     "output_type": "stream",
     "text": [
      "total 120K\n",
      "drwxrwxrwt  1 root root 4.0K Jan 10 16:57 ./\n",
      "drwxr-xr-x  1 root root 4.0K Jan 10 10:18 ../\n",
      "-rw-------  1 app  app   22K Jan 10 16:57 4453277165960240289\n",
      "drwxr-xr-x  2 app  app  4.0K Jan 10 16:56 blockmgr-bb88554d-0106-4633-be91-5bd5e627ca1f/\n",
      "drwxr-xr-x  2 app  app  4.0K Jan 10 16:56 hsperfdata_app/\n",
      "drwxr-xr-x  2 root root 4.0K Jul 25 17:21 hsperfdata_root/\n",
      "-rw-------  1 app  app  3.9K Jan 10 16:56 livyConf6116544415550659331.properties\n",
      "-rw-------  1 app  app  5.0K Jan 10 11:51 magics.ipynb\n",
      "drwx------  2 app  app  4.0K Jan 10 16:56 rsc-tmp5343193635632419810/\n",
      "drwxrwxr-x  3 app  app  4.0K Jan  9 14:41 sample-dir/\n",
      "drwxr-xr-x  2 app  app  4.0K Jan  9 13:12 spark/\n",
      "drwx------ 13 app  app  4.0K Jan 10 11:47 spark1744267022233969225/\n",
      "drwx------ 13 app  app  4.0K Jan 10 16:47 spark3023415702186036028/\n",
      "drwx------ 13 app  app  4.0K Jan 10 12:33 spark3893499063417646628/\n",
      "drwxr-xr-x  2 app  app  4.0K Jan 10 16:56 spark-3bb1e673-0908-4a0b-baa4-eb4625ed7f9b/\n",
      "drwx------ 13 app  app  4.0K Jan 10 16:43 spark5167310065713954373/\n",
      "drwx------ 13 app  app  4.0K Jan 10 13:00 spark537594017643217184/\n",
      "drwx------  4 app  app  4.0K Jan 10 16:57 spark-56c9f36b-cadf-40d0-b7a0-04e45340b764/\n",
      "drwx------ 13 app  app  4.0K Jan 10 11:49 spark5888580564844783891/\n",
      "drwx------ 13 app  app  4.0K Jan 10 11:50 spark6466991697029517772/\n",
      "drwx------ 13 app  app  4.0K Jan 10 16:56 spark678608095811698055/\n",
      "drwx------ 13 app  app  4.0K Jan 10 16:54 spark8604402177625701284/\n",
      "drwxr-xr-x  2 app  app  4.0K Jan 10 11:51 tmp/\n",
      "drwx------  2 app  app  4.0K Jan 10 16:57 tmps4udjglf/\n",
      "$ process finished with return code 0\n"
     ]
    }
   ],
   "source": [
    "%%remote_command\n",
    "\n",
    "ls -lahF ."
   ]
  },
  {
   "cell_type": "code",
   "execution_count": 11,
   "id": "84f5bea1-ac99-40c6-a9cf-bed32af38d03",
   "metadata": {},
   "outputs": [
    {
     "name": "stdout",
     "output_type": "stream",
     "text": [
      "Fri 10 Jan 2025 04:57:13 PM UTC: hello #1\n",
      "Fri 10 Jan 2025 04:57:14 PM UTC: hello #2\n",
      "Fri 10 Jan 2025 04:57:15 PM UTC: hello #3\n",
      "Fri 10 Jan 2025 04:57:16 PM UTC: hello #4\n",
      "Fri 10 Jan 2025 04:57:17 PM UTC: hello #5\n",
      "Fri 10 Jan 2025 04:57:18 PM UTC: hello #6\n",
      "Fri 10 Jan 2025 04:57:19 PM UTC: hello #7\n",
      "Fri 10 Jan 2025 04:57:20 PM UTC: hello #8\n",
      "Fri 10 Jan 2025 04:57:21 PM UTC: hello #9\n",
      "Fri 10 Jan 2025 04:57:22 PM UTC: hello #10\n",
      "$ process finished with return code 3\n"
     ]
    }
   ],
   "source": [
    "%%remote_command\n",
    "\n",
    "for i in $(seq 1 10); do echo \"$(date): hello #$i\"; sleep 1; done; exit 3"
   ]
  },
  {
   "cell_type": "markdown",
   "id": "fa33add3-c506-4a0a-b40f-02278b554530",
   "metadata": {},
   "source": [
    "## Sending local file"
   ]
  },
  {
   "cell_type": "code",
   "execution_count": 12,
   "id": "5dd00633-fc4d-4d35-9625-c649c6324a20",
   "metadata": {},
   "outputs": [
    {
     "name": "stdout",
     "output_type": "stream",
     "text": [
      "total 24K\n",
      "drwxrwxr-x  4 app app 4.0K Jan 10 16:56 ./\n",
      "drwxrwxr-x 11 app app 4.0K Jan 10 12:31 ../\n",
      "drwxr-xr-x  2 app app 4.0K Jan  9 13:49 .ipynb_checkpoints/\n",
      "-rw-r--r--  1 app app 6.9K Jan 10 16:56 magics.ipynb\n",
      "drwxrwxr-x  3 app app 4.0K Jan  9 14:41 sample-dir/\n"
     ]
    }
   ],
   "source": [
    "%local !ls -lahF"
   ]
  },
  {
   "cell_type": "code",
   "execution_count": 13,
   "id": "f7c16f76-a199-4c4b-bbf1-76dbfe9827a9",
   "metadata": {},
   "outputs": [],
   "source": [
    "%send_path_to_spark -p magics.ipynb"
   ]
  },
  {
   "cell_type": "code",
   "execution_count": 14,
   "id": "62c00b15-92bb-4256-b8c5-8972dc68867c",
   "metadata": {},
   "outputs": [
    {
     "name": "stdout",
     "output_type": "stream",
     "text": [
      "-rw-------  1 app  app  6.9K Jan 10 16:57 magics.ipynb\n",
      "$ process finished with return code 0\n"
     ]
    }
   ],
   "source": [
    "%%remote_command\n",
    "\n",
    "ls -lahF | grep magics"
   ]
  },
  {
   "cell_type": "markdown",
   "id": "39ffb420-c3b7-4867-9d70-ee63fa6af659",
   "metadata": {},
   "source": [
    "## Sending local directory"
   ]
  },
  {
   "cell_type": "code",
   "execution_count": 15,
   "id": "464567bf-bd72-467d-b0e3-8f754b75ffc6",
   "metadata": {},
   "outputs": [
    {
     "name": "stdout",
     "output_type": "stream",
     "text": [
      "sample-dir/\n",
      "sample-dir/inner\n",
      "sample-dir/inner/bar.txt\n",
      "sample-dir/foo.txt\n"
     ]
    }
   ],
   "source": [
    "%local !find sample-dir/"
   ]
  },
  {
   "cell_type": "code",
   "execution_count": 16,
   "id": "739881b0-f362-4b16-b090-bb02403b1a87",
   "metadata": {},
   "outputs": [],
   "source": [
    "%send_path_to_spark -p sample-dir/"
   ]
  },
  {
   "cell_type": "code",
   "execution_count": 17,
   "id": "81f65cad-1264-4cc7-befd-2054f7081af2",
   "metadata": {},
   "outputs": [
    {
     "name": "stdout",
     "output_type": "stream",
     "text": [
      "/tmp\n",
      "$ process finished with return code 0\n"
     ]
    }
   ],
   "source": [
    "%%remote_command\n",
    "pwd"
   ]
  },
  {
   "cell_type": "code",
   "execution_count": 18,
   "id": "ff2d46be-e9ac-4bd0-ba23-823ae14ec601",
   "metadata": {},
   "outputs": [
    {
     "name": "stdout",
     "output_type": "stream",
     "text": [
      "/tmp/sample-dir\n",
      "/tmp/sample-dir/inner\n",
      "/tmp/sample-dir/inner/bar.txt\n",
      "/tmp/sample-dir/foo.txt\n",
      "$ process finished with return code 0\n"
     ]
    }
   ],
   "source": [
    "%%remote_command\n",
    "\n",
    "find \"$PWD/sample-dir\""
   ]
  },
  {
   "cell_type": "markdown",
   "id": "2d0b762a-4b12-41e2-8dae-0f8a491c0b94",
   "metadata": {},
   "source": [
    "## Running background commands"
   ]
  },
  {
   "cell_type": "code",
   "execution_count": 19,
   "id": "e1f87513-afa0-439e-8b82-08e69dbf4831",
   "metadata": {},
   "outputs": [],
   "source": [
    "%local\n",
    "\n",
    "from livy_uploads.commander import LivyCommander\n",
    "\n",
    "commander = LivyCommander.from_ipython()"
   ]
  },
  {
   "cell_type": "code",
   "execution_count": 20,
   "id": "60156bcb-4ad6-4653-bed9-6556dea755ee",
   "metadata": {},
   "outputs": [
    {
     "name": "stdout",
     "output_type": "stream",
     "text": [
      "started process-bash-d614fce9-97cb-478d-9ff2-0e448692863f\n"
     ]
    }
   ],
   "source": [
    "%local\n",
    "\n",
    "name = commander.start_command(['bash', '-c', 'for i in $(seq 1 10); do echo \"$(date): hello #$i\"; sleep 1; done; exit 3'])\n",
    "print('started', name)"
   ]
  },
  {
   "cell_type": "code",
   "execution_count": 21,
   "id": "abdcdc83-24be-48ae-bc01-ffb997977ba6",
   "metadata": {},
   "outputs": [
    {
     "name": "stdout",
     "output_type": "stream",
     "text": [
      "Fri 10 Jan 2025 04:57:33 PM UTC: hello #1\n",
      "Fri 10 Jan 2025 04:57:34 PM UTC: hello #2\n",
      "Fri 10 Jan 2025 04:57:35 PM UTC: hello #3\n",
      "Fri 10 Jan 2025 04:57:36 PM UTC: hello #4\n",
      "Fri 10 Jan 2025 04:57:37 PM UTC: hello #5\n",
      "Fri 10 Jan 2025 04:57:38 PM UTC: hello #6\n",
      "Fri 10 Jan 2025 04:57:39 PM UTC: hello #7\n",
      "Fri 10 Jan 2025 04:57:40 PM UTC: hello #8\n",
      "Fri 10 Jan 2025 04:57:41 PM UTC: hello #9\n",
      "Fri 10 Jan 2025 04:57:42 PM UTC: hello #10\n",
      "returncode: 3\n"
     ]
    }
   ],
   "source": [
    "%local\n",
    "\n",
    "import time\n",
    "\n",
    "while True:\n",
    "    lines, returncode = commander.poll_command(name)\n",
    "    for line in lines:\n",
    "        print(line)\n",
    "    if returncode is not None:\n",
    "        print('returncode:', returncode)\n",
    "        break\n",
    "\n",
    "    time.sleep(0.5)"
   ]
  },
  {
   "cell_type": "code",
   "execution_count": 22,
   "id": "398bace0-63fa-4080-9d9b-011081733034",
   "metadata": {},
   "outputs": [
    {
     "ename": "Exception",
     "evalue": "non-ok status in statement: {'status': 'error', 'execution_count': 42, 'ename': 'KeyError', 'evalue': '\"no such process \\'process-bash-d614fce9-97cb-478d-9ff2-0e448692863f\\'\"', 'traceback': ['Traceback (most recent call last):\\n', '  File \"<stdin>\", line 13, in livy_uploads_LivyEndpoint_run\\n', '  File \"<stdin>\", line 6, in livy_uploads_LivyEndpoint_code\\n', '  File \"<stdin>\", line 98, in poll\\n', 'KeyError: \"no such process \\'process-bash-d614fce9-97cb-478d-9ff2-0e448692863f\\'\"\\n']}",
     "output_type": "error",
     "traceback": [
      "\u001b[0;31m---------------------------------------------------------------------------\u001b[0m",
      "\u001b[0;31mException\u001b[0m                                 Traceback (most recent call last)",
      "\u001b[0;32m<ipython-input-22-1b8fd0873381>\u001b[0m in \u001b[0;36m<module>\u001b[0;34m\u001b[0m\n\u001b[0;32m----> 1\u001b[0;31m \u001b[0mcommander\u001b[0m\u001b[0;34m.\u001b[0m\u001b[0mpoll_command\u001b[0m\u001b[0;34m(\u001b[0m\u001b[0mname\u001b[0m\u001b[0;34m)\u001b[0m\u001b[0;34m\u001b[0m\u001b[0;34m\u001b[0m\u001b[0m\n\u001b[0m",
      "\u001b[0;32m/app/livy_uploads/commander.py\u001b[0m in \u001b[0;36mpoll_command\u001b[0;34m(self, name, max_lines)\u001b[0m\n\u001b[1;32m     93\u001b[0m \u001b[0;34m\u001b[0m\u001b[0m\n\u001b[1;32m     94\u001b[0m             \u001b[0;32mreturn\u001b[0m \u001b[0mProcessManager\u001b[0m\u001b[0;34m.\u001b[0m\u001b[0mpoll\u001b[0m\u001b[0;34m(\u001b[0m\u001b[0mname\u001b[0m\u001b[0;34m,\u001b[0m \u001b[0mmax_lines\u001b[0m\u001b[0;34m)\u001b[0m\u001b[0;34m\u001b[0m\u001b[0;34m\u001b[0m\u001b[0m\n\u001b[0;32m---> 95\u001b[0;31m         ''')\n\u001b[0m\u001b[1;32m     96\u001b[0m         \u001b[0;32mreturn\u001b[0m \u001b[0mlines\u001b[0m\u001b[0;34m,\u001b[0m \u001b[0mreturncode\u001b[0m\u001b[0;34m\u001b[0m\u001b[0;34m\u001b[0m\u001b[0m\n\u001b[1;32m     97\u001b[0m \u001b[0;34m\u001b[0m\u001b[0m\n",
      "\u001b[0;32m/app/livy_uploads/endpoint.py\u001b[0m in \u001b[0;36mrun_code\u001b[0;34m(self, code)\u001b[0m\n\u001b[1;32m    126\u001b[0m         \u001b[0moutput\u001b[0m \u001b[0;34m=\u001b[0m \u001b[0mst\u001b[0m\u001b[0;34m[\u001b[0m\u001b[0;34m'output'\u001b[0m\u001b[0;34m]\u001b[0m\u001b[0;34m\u001b[0m\u001b[0;34m\u001b[0m\u001b[0m\n\u001b[1;32m    127\u001b[0m         \u001b[0;32mif\u001b[0m \u001b[0moutput\u001b[0m\u001b[0;34m[\u001b[0m\u001b[0;34m'status'\u001b[0m\u001b[0;34m]\u001b[0m \u001b[0;34m!=\u001b[0m \u001b[0;34m'ok'\u001b[0m\u001b[0;34m:\u001b[0m\u001b[0;34m\u001b[0m\u001b[0;34m\u001b[0m\u001b[0m\n\u001b[0;32m--> 128\u001b[0;31m             \u001b[0;32mraise\u001b[0m \u001b[0mException\u001b[0m\u001b[0;34m(\u001b[0m\u001b[0;34mf'non-ok status in statement: {output}'\u001b[0m\u001b[0;34m)\u001b[0m\u001b[0;34m\u001b[0m\u001b[0;34m\u001b[0m\u001b[0m\n\u001b[0m\u001b[1;32m    129\u001b[0m \u001b[0;34m\u001b[0m\u001b[0m\n\u001b[1;32m    130\u001b[0m         \u001b[0;32mtry\u001b[0m\u001b[0;34m:\u001b[0m\u001b[0;34m\u001b[0m\u001b[0;34m\u001b[0m\u001b[0m\n",
      "\u001b[0;31mException\u001b[0m: non-ok status in statement: {'status': 'error', 'execution_count': 42, 'ename': 'KeyError', 'evalue': '\"no such process \\'process-bash-d614fce9-97cb-478d-9ff2-0e448692863f\\'\"', 'traceback': ['Traceback (most recent call last):\\n', '  File \"<stdin>\", line 13, in livy_uploads_LivyEndpoint_run\\n', '  File \"<stdin>\", line 6, in livy_uploads_LivyEndpoint_code\\n', '  File \"<stdin>\", line 98, in poll\\n', 'KeyError: \"no such process \\'process-bash-d614fce9-97cb-478d-9ff2-0e448692863f\\'\"\\n']}"
     ]
    }
   ],
   "source": [
    "%local\n",
    "\n",
    "commander.poll_command(name)"
   ]
  },
  {
   "cell_type": "code",
   "execution_count": null,
   "id": "ed081aa9-f3cf-4655-a94b-6d0c21e40000",
   "metadata": {},
   "outputs": [],
   "source": []
  }
 ],
 "metadata": {
  "kernelspec": {
   "display_name": "PySpark",
   "language": "python",
   "name": "pysparkkernel"
  },
  "language_info": {
   "codemirror_mode": {
    "name": "python",
    "version": 3
   },
   "file_extension": ".py",
   "mimetype": "text/x-python",
   "name": "pyspark",
   "pygments_lexer": "python3"
  }
 },
 "nbformat": 4,
 "nbformat_minor": 5
}
